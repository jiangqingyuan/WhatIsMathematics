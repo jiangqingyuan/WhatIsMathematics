{
 "cells": [
  {
   "cell_type": "code",
   "execution_count": 4,
   "metadata": {},
   "outputs": [],
   "source": [
    "# 在数增大的过程中，字符的运动。\n",
    "# 一个整数 `n` 作为输入参数.\n",
    "# 如果输入的数字是0，那么就替换为1，否则下一步；\n",
    "# 如果输入的数字是1，那么就替换为2，否则下一步；\n",
    "# 如果输入的数字是2，那么就替换为3，否则下一步；\n",
    "# 如果输入的数字是3，那么就替换为4，否则下一步；\n",
    "# 如果输入的数字是4，那么就替换为5，否则下一步；\n",
    "# 如果输入的数字是5，那么就替换为6，否则下一步；\n",
    "# 如果输入的数字是6，那么就替换为7，否则下一步；\n",
    "# 如果输入的数字是7，那么就替换为8，否则下一步；\n",
    "# 如果输入的数字是8，那么就替换为9，否则下一步；\n",
    "# 如果输入的数字是9，那么就替换为0。\n",
    "def cycleIncrease(n: int) -> int:\n",
    "    if n == 0:\n",
    "        return 1\n",
    "    elif n == 1:\n",
    "        return 2\n",
    "    elif n == 2:\n",
    "        return 3\n",
    "    elif n == 3:\n",
    "        return 4\n",
    "    elif n == 4:\n",
    "        return 5\n",
    "    elif n == 5:\n",
    "        return 6\n",
    "    elif n == 6:\n",
    "        return 7\n",
    "    elif n == 7:\n",
    "        return 8\n",
    "    elif n == 8:\n",
    "        return 9\n",
    "    elif n == 9:\n",
    "        return 0"
   ]
  },
  {
   "cell_type": "code",
   "execution_count": 3,
   "metadata": {},
   "outputs": [
    {
     "data": {
      "text/plain": [
       "0"
      ]
     },
     "execution_count": 3,
     "metadata": {},
     "output_type": "execute_result"
    }
   ],
   "source": [
    "# 当输入的数字是0时，将其替换为1；\n",
    "\n",
    "# 当输入的数字是1时，将其替换为2；\n",
    "\n",
    "# 当输入的数字是2时，将其替换为3；\n",
    "\n",
    "# 当输入的数字是3时，将其替换为4；\n",
    "\n",
    "# 当输入的数字是4时，将其替换为5；\n",
    "\n",
    "# 当输入的数字是5时，将其替换为6；\n",
    "\n",
    "# 当输入的数字是6时，将其替换为7；\n",
    "\n",
    "# 当输入的数字是7时，将其替换为8；\n",
    "\n",
    "# 当输入的数字是8时，将其替换为9；\n",
    "\n",
    "# 当输入的数字是9时，将其替换为0。\n",
    "\n",
    "digit = {0:1,1:2,2:3,3:4,4:5,5:6,6:7,7:8,8:9,9:0}\n",
    "\n",
    "def cycleIncrease(n: int) -> int:\n",
    "    return digit[n]"
   ]
  },
  {
   "cell_type": "markdown",
   "metadata": {},
   "source": [
    "当输入的数字是0时，将其替换为1；\n",
    "当输入的数字是1时，将其替换为2；\n",
    "当输入的数字是2时，将其替换为3；\n",
    "当输入的数字是3时，将其替换为4；\n",
    "当输入的数字是4时，将其替换为5；\n",
    "当输入的数字是5时，将其替换为6；\n",
    "当输入的数字是6时，将其替换为7；\n",
    "当输入的数字是7时，将其替换为8；\n",
    "当输入的数字是8时，将其替换为9；\n",
    "当输入的数字是9时，将其替换为0。"
   ]
  },
  {
   "cell_type": "code",
   "execution_count": null,
   "metadata": {},
   "outputs": [],
   "source": []
  },
  {
   "cell_type": "code",
   "execution_count": null,
   "metadata": {},
   "outputs": [],
   "source": [
    "def cycleIncrease(n: int) -> int:\n",
    "    return (n+1)%10"
   ]
  },
  {
   "cell_type": "markdown",
   "metadata": {},
   "source": [
    "需要知道加法，也就是已经知道后面是谁了，要知道除法和余数。"
   ]
  }
 ],
 "metadata": {
  "kernelspec": {
   "display_name": ".venv",
   "language": "python",
   "name": "python3"
  },
  "language_info": {
   "codemirror_mode": {
    "name": "ipython",
    "version": 3
   },
   "file_extension": ".py",
   "mimetype": "text/x-python",
   "name": "python",
   "nbconvert_exporter": "python",
   "pygments_lexer": "ipython3",
   "version": "3.12.0"
  }
 },
 "nbformat": 4,
 "nbformat_minor": 2
}
